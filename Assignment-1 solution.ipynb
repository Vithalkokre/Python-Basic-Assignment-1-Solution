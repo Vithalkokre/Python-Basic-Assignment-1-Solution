{
 "cells": [
  {
   "cell_type": "code",
   "execution_count": null,
   "id": "815e9b40",
   "metadata": {},
   "outputs": [],
   "source": [
    "1. In the below elements which of them are values or an expression? eg:- values can be integer or string and expressions will be mathematical operators.\n",
    "    *expression\n",
    "'hello'\tvalue\n",
    "-87.8\tvalue\n",
    "-\texpression\n",
    "/\texpression\n",
    "+\texpression\n",
    "6\tvalue\n"
   ]
  },
  {
   "cell_type": "code",
   "execution_count": null,
   "id": "4f4ad960",
   "metadata": {},
   "outputs": [],
   "source": [
    "2. What is the difference between string and variable?\n",
    "   String: String is the values inside the quotes assigned to a string. It can be written in quotes such: \"apple\", 'apple'\n",
    "Variable: It is the thing in which we can store data just like a container. A variable is basically the name of the location in the primary memory of the computer. A variable can store everything from string to number.\n"
   ]
  },
  {
   "cell_type": "code",
   "execution_count": null,
   "id": "4dc029dd",
   "metadata": {},
   "outputs": [],
   "source": [
    "3. Describe three different data types.\n",
    "Numeric type: - (int, float, complex) Number stores numeric values. e.g. Integer: integer can store only numerical values. Float: float can store only floating values such as 233.33, 22.2, etc.\n",
    "Dictionary type: - (dict) Dictionary is like an associative array where each key stores specific value. \n",
    "Boolean type: - (True or False) Boolean type provides two built-in values, True or False Set – Set.\n",
    "Sequence type: - string, list, tuple e.g. List: the list is used for storing multiple data items in a single variable.\n"
   ]
  },
  {
   "cell_type": "code",
   "execution_count": null,
   "id": "bfc175d7",
   "metadata": {},
   "outputs": [],
   "source": [
    "4. What is an expression made up of? What do all expressions do?\n",
    "An expression is a combination of variables, values, operations and calls to functions. Expression is made up of values, containers, and mathematical operators (operands) e.g. a = 2+ 3 and expressions are used to evaluate the values or represent the result on the screen. "
   ]
  },
  {
   "cell_type": "code",
   "execution_count": null,
   "id": "ed1a9ef3",
   "metadata": {},
   "outputs": [],
   "source": [
    "5. This assignment statements, like spam = 10. What is the difference between an expression and a statement?\n",
    "An expression evaluates to a single value. A statement does not. Expression is made up of values, containers, and mathematical operators (operands) and the statement is just like a command that a python interpreter executes like print."
   ]
  },
  {
   "cell_type": "code",
   "execution_count": null,
   "id": "6d309b85",
   "metadata": {},
   "outputs": [],
   "source": [
    "6. After running the following code, what does the variable bacon contain?\n",
    "bacon = 22\n",
    "bacon + 1\n",
    " "
   ]
  },
  {
   "cell_type": "code",
   "execution_count": 1,
   "id": "ac0286e7",
   "metadata": {},
   "outputs": [
    {
     "data": {
      "text/plain": [
       "23"
      ]
     },
     "execution_count": 1,
     "metadata": {},
     "output_type": "execute_result"
    }
   ],
   "source": [
    "bacon = 22\n",
    "bacon + 1"
   ]
  },
  {
   "cell_type": "code",
   "execution_count": null,
   "id": "fc7edb6e",
   "metadata": {},
   "outputs": [],
   "source": [
    "7. What should the values of the following two terms be?\n"
   ]
  },
  {
   "cell_type": "code",
   "execution_count": 2,
   "id": "a2f7f8ad",
   "metadata": {},
   "outputs": [
    {
     "data": {
      "text/plain": [
       "'spamspamspam'"
      ]
     },
     "execution_count": 2,
     "metadata": {},
     "output_type": "execute_result"
    }
   ],
   "source": [
    "'spam' + 'spamspam'"
   ]
  },
  {
   "cell_type": "code",
   "execution_count": 4,
   "id": "e10b9451",
   "metadata": {},
   "outputs": [
    {
     "data": {
      "text/plain": [
       "'spamspamspam'"
      ]
     },
     "execution_count": 4,
     "metadata": {},
     "output_type": "execute_result"
    }
   ],
   "source": [
    "'spam'*3"
   ]
  },
  {
   "cell_type": "code",
   "execution_count": null,
   "id": "9138da5a",
   "metadata": {},
   "outputs": [],
   "source": [
    "8. Why is eggs a valid variable name while 100 is invalid?\n",
    "Because we can’t start giving variable an integer. Eg. 100, 100eggs and 10e are invalid. But if we should begin with, a string-like alphabet name then integer e100, eggs10 are valid."
   ]
  },
  {
   "cell_type": "code",
   "execution_count": null,
   "id": "ea28736e",
   "metadata": {},
   "outputs": [],
   "source": [
    "9. What three functions can be used to get the integer, floating-point number, or string version of a value?\n",
    "Solution: int(), float(), str()\n"
   ]
  },
  {
   "cell_type": "code",
   "execution_count": null,
   "id": "eb3637f0",
   "metadata": {},
   "outputs": [],
   "source": [
    "10. Why does this expression cause an error? How can you fix it?\n",
    "'I have eaten' + 99 + 'burritos'\n",
    "Solution:  Because 99 is an integer it cannot be concatenated with strings, if we have to concatenate it we need to do typecasting.\n",
    "\n"
   ]
  }
 ],
 "metadata": {
  "kernelspec": {
   "display_name": "Python 3 (ipykernel)",
   "language": "python",
   "name": "python3"
  },
  "language_info": {
   "codemirror_mode": {
    "name": "ipython",
    "version": 3
   },
   "file_extension": ".py",
   "mimetype": "text/x-python",
   "name": "python",
   "nbconvert_exporter": "python",
   "pygments_lexer": "ipython3",
   "version": "3.9.7"
  }
 },
 "nbformat": 4,
 "nbformat_minor": 5
}
